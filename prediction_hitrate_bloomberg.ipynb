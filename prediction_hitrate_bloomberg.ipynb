{
 "cells": [
  {
   "cell_type": "code",
   "execution_count": 104,
   "metadata": {
    "collapsed": true
   },
   "outputs": [],
   "source": [
    "%matplotlib inline\n",
    "\n",
    "import os\n",
    "import datetime\n",
    "import pytz\n",
    "import time\n",
    "import json\n",
    "\n",
    "import re\n",
    "\n",
    "import pandas as pd\n",
    "import numpy as np\n",
    "import matplotlib.pyplot as plt\n",
    "\n",
    "from nltk import word_tokenize\n",
    "from nltk.tokenize import RegexpTokenizer\n",
    "from nltk.stem.snowball import SnowballStemmer\n",
    "\n",
    "from sklearn.feature_extraction.text import TfidfVectorizer\n",
    "from sklearn.linear_model import Ridge, RidgeClassifier\n",
    "from sklearn.metrics import mean_squared_error,r2_score, roc_auc_score, roc_curve, auc, accuracy_score\n",
    "from sklearn.ensemble import ExtraTreesRegressor, ExtraTreesClassifier\n",
    "from sklearn.model_selection import cross_val_score, KFold, TimeSeriesSplit\n",
    "\n",
    "from scipy.sparse import csr_matrix, hstack\n",
    "\n",
    "TIME_INTERVAL = 5 * 60"
   ]
  },
  {
   "cell_type": "code",
   "execution_count": 105,
   "metadata": {
    "collapsed": true,
    "scrolled": true
   },
   "outputs": [],
   "source": [
    "## daily prices\n",
    "\n",
    "def preprbd(x_db):\n",
    "    x_db.columns = [x.lower() for x in x_db.columns.values]\n",
    "    ## x_db.drop(['date_text','month','month day','day','year'],axis=1,inplace=True)\n",
    "    x_db.drop(['open','high','low','market cap'],axis=1,inplace=True)\n",
    "\n",
    "\n",
    "bit_price_d = pd.read_csv(\"bitcoin_data/bitstampUSD_1-min_data_2012-01-01_to_2018-03-27.csv\")\n",
    "bit_price_d.columns = [x.lower() for x in bit_price_d.columns.values]\n",
    "\n",
    "\n",
    "bit_price_d = bit_price_d[['timestamp','close']]\n",
    "bit_price_d.rename(columns={'close':'btc_close'},inplace=True)\n",
    "\n",
    "bit_price_d['date_msc'] = bit_price_d['timestamp'].apply(lambda x: datetime.datetime.fromtimestamp(x))\n",
    "#bit_price_d.head()\n",
    "\n",
    "##preprbd(bit_price_d)\n",
    "##bit_price_d.rename(columns={'close':'btc_close'},inplace=True)\n"
   ]
  },
  {
   "cell_type": "code",
   "execution_count": 106,
   "metadata": {
    "scrolled": true
   },
   "outputs": [
    {
     "data": {
      "image/png": "[encoded data removed]",
      "text/plain": [
       "<matplotlib.figure.Figure at 0x23fbac1f2e8>"
      ]
     },
     "metadata": {},
     "output_type": "display_data"
    }
   ],
   "source": [
    "fig, ax1 = plt.subplots()\n",
    "\n",
    "ax1.plot(bit_price_d['date_msc'],bit_price_d['btc_close'],'b')\n",
    "ax1.set_ylabel('BTC-USD',color='b')\n",
    "\n",
    "\n",
    "plt.show()"
   ]
  },
  {
   "cell_type": "markdown",
   "metadata": {
    "collapsed": true
   },
   "source": [
    "#### Reading news"
   ]
  },
  {
   "cell_type": "code",
   "execution_count": 107,
   "metadata": {
    "scrolled": true
   },
   "outputs": [
    {
     "data": {
      "text/plain": [
       "'ninth in terms of BTC/USD ($1536570) trading'"
      ]
     },
     "execution_count": 107,
     "metadata": {},
     "output_type": "execute_result"
    }
   ],
   "source": [
    "re.sub(\"([0-9]*),([0-9]*)\",\"\\\\1\\\\2\",\"ninth in terms of BTC/USD ($1,536,570) trading\")"
   ]
  },
  {
   "cell_type": "code",
   "execution_count": 108,
   "metadata": {
    "scrolled": false
   },
   "outputs": [
    {
     "name": "stdout",
     "output_type": "stream",
     "text": [
      "text loaded\n",
      "metrics computed\n",
      "Wall time: 1.86 s\n"
     ]
    }
   ],
   "source": [
    "%%time\n",
    "\n",
    "def clean_text(text):\n",
    "    text = re.sub(\"<.*?>.*?</.*?>\",\"\",text)\n",
    "    text = re.sub(\"&amp;\",\"&\",text)\n",
    "    text = re.sub(\"\\n\",\" \",text)\n",
    "    text = re.sub(\"'\",\"\",text)\n",
    "    text = re.sub(\"\\$([0-9])\",\"USD \\\\1\",text)\n",
    "    text = re.sub(\"([0-9])k\",\"\\\\1 thousands\",text)    \n",
    "    text = re.sub(\"([0-9])m\",\"\\\\1 million\",text)\n",
    "    text = re.sub(\"([0-9])bn\",\"\\\\1 billion\",text)\n",
    "    text = re.sub(\"([0-9]*),([0-9]*)\",\"\\\\1\\\\2\",text)  ## removing thousands separator\n",
    "    text = re.sub(\"R&D\",\"RnD\",text)\n",
    "\n",
    "    return text\n",
    "    \n",
    "\n",
    "## Loading text\n",
    "DIR_FILE = \"news_bloomberg\"\n",
    "news_corpus = []\n",
    "for i_file in os.listdir(DIR_FILE):\n",
    "    \n",
    "    # read file\n",
    "    tt = open (DIR_FILE + \"/\"+i_file, encoding='utf-8', errors='ignore')\n",
    "\n",
    "\n",
    "    # process headline\n",
    "    news_headline = tt.readline()\n",
    "    news_headline = re.sub(\"\\n\",\"\",news_headline)\n",
    "    news_headline = clean_text(news_headline)\n",
    "    \n",
    "    # now time for time\n",
    "    news_time_str = tt.readline()\n",
    "    news_time = datetime.datetime.strptime(news_time_str[0:16],\"%Y-%m-%dT%H:%M\")\n",
    "    news_time = news_time.replace(tzinfo=pytz.UTC)\n",
    "    news_timestamp = news_time.timestamp()\n",
    "    news_date = news_time_str[0:10]\n",
    "    \n",
    "    \n",
    "    # news text and brief\n",
    "    news_text = \"\".join(tt.readlines())\n",
    "    rm = re.search(\"<content>(.*?)</content>\",news_text)\n",
    "    content = rm.group(0) \n",
    "    \n",
    "    news_text = clean_text(news_text)\n",
    "    news_corpus.append([news_date, news_timestamp, content,news_headline,news_text])\n",
    "    \n",
    "    \n",
    "print (\"text loaded\")\n",
    "\n",
    "news_corpus = pd.DataFrame(news_corpus)\n",
    "news_corpus.columns = ['date_orig','timestamp_orig','content','headline','text']\n",
    "\n",
    "\n",
    "## aggregate text and headlines on daily level\n",
    "def compute_metrics(x):\n",
    "    result = {'headline': \" \".join(x['headline']), \n",
    "              'text': \" \".join(x['text']),'count_news':len(x)}\n",
    "    return pd.Series(result, name='metrics')\n",
    "\n",
    "\n",
    "\n",
    "## Aggregating data on time intervals\n",
    "##\n",
    "news_corpus['timestamp_orig'] = news_corpus['timestamp_orig'] - (news_corpus['timestamp_orig'] % TIME_INTERVAL)\n",
    "# news_corpus['date_full_orig'] = news_corpus['timestamp_orig'].apply(datetime.datetime.fromtimestamp)\n",
    "news_corpus = news_corpus.query('date_orig>=\"2017-11-01\"')\n",
    "news_corpus = news_corpus.groupby(['date_orig','timestamp_orig']).apply(compute_metrics)\n",
    "\n",
    "\n",
    "\n",
    "news_corpus.sort_index(inplace=True)\n",
    "news_corpus.reset_index(inplace=True)\n",
    "\n",
    "\n",
    "### prefiltering\n",
    "###\n",
    "\n",
    "news_corpus.reset_index(inplace=True)\n",
    "news_corpus.drop('index',axis=1,inplace=True)\n",
    "\n",
    "\n",
    "print (\"metrics computed\")\n",
    "\n",
    "news_corpus.head()"
   ]
  },
  {
   "cell_type": "code",
   "execution_count": 109,
   "metadata": {
    "scrolled": true
   },
   "outputs": [
    {
     "name": "stdout",
     "output_type": "stream",
     "text": [
      "914      \n",
      "Name: text, dtype: object\n"
     ]
    }
   ],
   "source": [
    "pd.set_option('display.max_colwidth', -1)\n",
    "aa = news_corpus.sample(1)\n",
    "print (aa['text'])\n",
    "pd.set_option('display.max_colwidth', 50)"
   ]
  },
  {
   "cell_type": "code",
   "execution_count": 110,
   "metadata": {
    "scrolled": true
   },
   "outputs": [
    {
     "data": {
      "image/png": "[encoded data removed]",
      "text/plain": [
       "<matplotlib.figure.Figure at 0x23faa13d358>"
      ]
     },
     "metadata": {},
     "output_type": "display_data"
    }
   ],
   "source": [
    "## Plot news count\n",
    "\n",
    "fig, axs = plt.subplots()\n",
    "\n",
    "bb_daily = news_corpus.groupby('date_orig')[['count_news']].sum()\n",
    "bb_daily.reset_index(inplace=True)\n",
    "bb_daily['date_str']= bb_daily['date_orig'].apply(str)\n",
    "##bb_daily = bb_daily.query(\"date_str>='2017-10-01'\")\n",
    "aa = bb_daily.rolling(8,min_periods=1)['count_news'].mean()\n",
    "axs.plot(bb_daily['date_orig'],aa)\n",
    "axs.title.set_text(\"8-rolling of Bloomberg news daily count\")\n",
    "\n"
   ]
  },
  {
   "cell_type": "markdown",
   "metadata": {},
   "source": [
    "#### Explanation model"
   ]
  },
  {
   "cell_type": "code",
   "execution_count": 114,
   "metadata": {
    "scrolled": false
   },
   "outputs": [
    {
     "name": "stdout",
     "output_type": "stream",
     "text": [
      "(1659, 549)\n",
      "headline processed\n",
      "(1659, 6568)\n",
      "text processed\n",
      "(1659, 7119)\n",
      "Wall time: 10.7 s\n"
     ]
    }
   ],
   "source": [
    "%%time\n",
    "\n",
    "##  Get daily spot price\n",
    "##\n",
    "\n",
    "all_data = bit_price_d[['timestamp','btc_close']].copy(deep=True)\n",
    "all_data = all_data.query(\"timestamp % (\" + str(TIME_INTERVAL)+\") == 0\")\n",
    "all_data = all_data.query('timestamp>='+ str(min(news_corpus['timestamp_orig'])-3600))\n",
    "all_data = all_data.query('timestamp<='+ str(max(news_corpus['timestamp_orig'])+3600))\n",
    "\n",
    "\n",
    "\n",
    "all_data.sort_values('timestamp',ascending=True,inplace=True)\n",
    "all_data.reset_index(inplace=True)\n",
    "all_data.drop('index',axis=1,inplace=True)\n",
    "\n",
    "\n",
    "## make returns\n",
    "price = all_data['btc_close']\n",
    "price_l1 = all_data['btc_close'].shift(1)\n",
    "all_data['btc_return'] = np.log(price) - np.log(price_l1)\n",
    "\n",
    "all_data['btc_dir'] = 0\n",
    "all_data.loc[all_data['btc_return']<-0.002, 'btc_dir'] = -1\n",
    "all_data.loc[all_data['btc_return']>0.002, 'btc_dir'] = 1\n",
    "all_data['btc_dir_l1'] = all_data['btc_dir'].shift(1)\n",
    "\n",
    "all_data.dropna(inplace=True)\n",
    "\n",
    "\n",
    "news_corpus['timestamp'] = news_corpus['timestamp_orig'] + TIME_INTERVAL\n",
    "\n",
    "all_data = all_data.merge(news_corpus[['timestamp','count_news','headline','text']],how='left',on='timestamp')\n",
    "all_data.fillna('',inplace=True)\n",
    "\n",
    "filt = [x=='' for x in all_data['count_news']]\n",
    "all_data.loc[filt,'count_news']=0\n",
    "\n",
    "## filtering nulls\n",
    "all_data = all_data.query('count_news>0')\n",
    "all_data.reset_index(inplace=True)\n",
    "\n",
    "\n",
    "class LemmaTokenizer():\n",
    "     def __init__(self):\n",
    "        self.stm = SnowballStemmer('english')\n",
    "        self.tkn = RegexpTokenizer(r'\\w+')\n",
    "     def __call__(self, doc):\n",
    "         return [self.stm.stem(t) for t in self.tkn.tokenize(doc)]\n",
    "         ##return [self.stm.stem(t) for t in word_tokenize(doc)]\n",
    "\n",
    "## make headlines\n",
    "##\n",
    "tfidf = TfidfVectorizer(ngram_range=(1,2),min_df=5, tokenizer=LemmaTokenizer(),\n",
    "                       stop_words='english')\n",
    "tfidif_headline = tfidf.fit_transform(all_data['headline'])\n",
    "tfidf_col_names = tfidf.get_feature_names() \n",
    "print (tfidif_headline.shape)\n",
    "print (\"headline processed\")\n",
    "\n",
    "tfidf = TfidfVectorizer(ngram_range=(1,2),min_df=10, tokenizer=LemmaTokenizer(),\n",
    "                       stop_words='english')\n",
    "tfidif_text = tfidf.fit_transform(all_data['text'])\n",
    "tfidf_col_names += tfidf.get_feature_names()\n",
    "print (tfidif_text.shape)\n",
    "print (\"text processed\")\n",
    "\n",
    "\n",
    "## add column with news counts\n",
    "tfidif_vectors = hstack([csr_matrix(all_data[['btc_dir_l1']].astype(float)),\n",
    "                         csr_matrix(all_data[['count_news']].astype(float)),\n",
    "                         tfidif_headline,tfidif_text],format='csr')\n",
    "tfidf_col_names = ['btc_dir_l1','#var_count_news'] + tfidf_col_names\n",
    "\n",
    "##tfidif_vectors = hstack([tfidif_headline,tfidif_text],format='csr')\n",
    "## tfidif_vectors = tfidif_headline\n",
    "\n",
    "\n",
    "print (tfidif_vectors.shape)\n",
    "## tfidif_vectors\n",
    "all_data"
   ]
  },
  {
   "cell_type": "code",
   "execution_count": 115,
   "metadata": {},
   "outputs": [
    {
     "data": {
      "text/html": [
       "<div>\n",
       "<style>\n",
       "    .dataframe thead tr:only-child th {\n",
       "        text-align: right;\n",
       "    }\n",
       "\n",
       "    .dataframe thead th {\n",
       "        text-align: left;\n",
       "    }\n",
       "\n",
       "    .dataframe tbody tr th {\n",
       "        vertical-align: top;\n",
       "    }\n",
       "</style>\n",
       "<table border=\"1\" class=\"dataframe\">\n",
       "  <thead>\n",
       "    <tr style=\"text-align: right;\">\n",
       "      <th></th>\n",
       "      <th>index</th>\n",
       "      <th>timestamp</th>\n",
       "      <th>btc_close</th>\n",
       "      <th>btc_return</th>\n",
       "      <th>btc_dir_l1</th>\n",
       "      <th>count_news</th>\n",
       "      <th>headline</th>\n",
       "      <th>text</th>\n",
       "    </tr>\n",
       "    <tr>\n",
       "      <th>btc_dir</th>\n",
       "      <th></th>\n",
       "      <th></th>\n",
       "      <th></th>\n",
       "      <th></th>\n",
       "      <th></th>\n",
       "      <th></th>\n",
       "      <th></th>\n",
       "      <th></th>\n",
       "    </tr>\n",
       "  </thead>\n",
       "  <tbody>\n",
       "    <tr>\n",
       "      <th>-1</th>\n",
       "      <td>498</td>\n",
       "      <td>498</td>\n",
       "      <td>498</td>\n",
       "      <td>498</td>\n",
       "      <td>498</td>\n",
       "      <td>498</td>\n",
       "      <td>498</td>\n",
       "      <td>498</td>\n",
       "    </tr>\n",
       "    <tr>\n",
       "      <th>0</th>\n",
       "      <td>689</td>\n",
       "      <td>689</td>\n",
       "      <td>689</td>\n",
       "      <td>689</td>\n",
       "      <td>689</td>\n",
       "      <td>689</td>\n",
       "      <td>689</td>\n",
       "      <td>689</td>\n",
       "    </tr>\n",
       "    <tr>\n",
       "      <th>1</th>\n",
       "      <td>472</td>\n",
       "      <td>472</td>\n",
       "      <td>472</td>\n",
       "      <td>472</td>\n",
       "      <td>472</td>\n",
       "      <td>472</td>\n",
       "      <td>472</td>\n",
       "      <td>472</td>\n",
       "    </tr>\n",
       "  </tbody>\n",
       "</table>\n",
       "</div>"
      ],
      "text/plain": [
       "         index  timestamp  btc_close  btc_return  btc_dir_l1  count_news  \\\n",
       "btc_dir                                                                    \n",
       "-1         498        498        498         498         498         498   \n",
       " 0         689        689        689         689         689         689   \n",
       " 1         472        472        472         472         472         472   \n",
       "\n",
       "         headline  text  \n",
       "btc_dir                  \n",
       "-1            498   498  \n",
       " 0            689   689  \n",
       " 1            472   472  "
      ]
     },
     "execution_count": 115,
     "metadata": {},
     "output_type": "execute_result"
    }
   ],
   "source": [
    "all_data.groupby('btc_dir').count()"
   ]
  },
  {
   "cell_type": "code",
   "execution_count": 116,
   "metadata": {
    "scrolled": false
   },
   "outputs": [
    {
     "data": {
      "image/png": "[encoded data removed]",
      "text/plain": [
       "<matplotlib.figure.Figure at 0x23fa87cb7f0>"
      ]
     },
     "metadata": {},
     "output_type": "display_data"
    },
    {
     "name": "stdout",
     "output_type": "stream",
     "text": [
      "30-percentile -0.00200\n",
      "70-percentile 0.00183\n"
     ]
    }
   ],
   "source": [
    "from scipy.stats.kde import gaussian_kde\n",
    "\n",
    "fig, (axs1, axs2) = plt.subplots(1,2, figsize=(12,5))\n",
    "\n",
    "\n",
    "data = all_data['btc_return']\n",
    "kde = gaussian_kde( data )\n",
    "dist_space = np.linspace( min(data), max(data), 100 )\n",
    "# plot the results\n",
    "axs2.plot( dist_space, kde(dist_space) )\n",
    "axs2.hist(all_data['btc_return'], density = True)\n",
    "axs2.set_title(\"Distribution of bitcoin log returns\")\n",
    "\n",
    "dates = all_data['timestamp'].apply(datetime.datetime.fromtimestamp)\n",
    "axs1.plot(dates, all_data['btc_return'])\n",
    "axs1.set_title(\"Bitcoin log returns by date\")\n",
    "\n",
    "plt.show()\n",
    "\n",
    "print ('30-percentile %.5f' % np.percentile(data,30) )\n",
    "print ('70-percentile %.5f' % np.percentile(data,70) )\n",
    "\n"
   ]
  },
  {
   "cell_type": "code",
   "execution_count": 117,
   "metadata": {},
   "outputs": [
    {
     "name": "stdout",
     "output_type": "stream",
     "text": [
      "1519731300\n"
     ]
    }
   ],
   "source": [
    "## split into test and train\n",
    "##\n",
    "\n",
    "train_size =0.90\n",
    "train_ind = int(all_data.shape[0] * train_size)\n",
    "print (all_data.loc[train_ind,'timestamp'])\n",
    "\n",
    "\n",
    "matr = tfidif_vectors\n",
    "\n",
    "## dates_train =all_data.loc[:train_ind,'date']\n",
    "X_train = matr[:train_ind+1,]\n",
    "y_train = all_data.loc[:train_ind,'btc_dir']\n",
    "\n",
    "## dates_test = all_data.loc[train_ind+1:,'date']\n",
    "X_test = matr[train_ind+1:,]\n",
    "y_test =  all_data.loc[train_ind+1:,'btc_dir']"
   ]
  },
  {
   "cell_type": "markdown",
   "metadata": {},
   "source": [
    "#### Ridge Model"
   ]
  },
  {
   "cell_type": "code",
   "execution_count": 118,
   "metadata": {},
   "outputs": [],
   "source": [
    "def model_predict (mm,titles=[\"\"]):\n",
    "    \n",
    "    print (\"Fitting the model\")\n",
    "    ##mm.fit(X_train,y_train)\n",
    "    \n",
    "    y_pred = mm.predict(X_test)    \n",
    "\n",
    "        ## Plot train data\n",
    "    try: \n",
    "        y_score = mm.decision_function(X_test)\n",
    "    except:\n",
    "        y_score = mm.predict_proba(X_test)\n",
    "        y_score = [x[1] for x in y_score]\n",
    "\n",
    "    fpr, tpr, _ = roc_curve(y_test, y_score)\n",
    "    roc_auc = auc(fpr, tpr)    \n",
    "    print (\"ROC-AUC test: \", roc_auc) \n",
    "    \n",
    "    acc = accuracy_score(y_pred,y_test)\n",
    "    print (\"accuracy: \", acc) \n",
    "\n",
    "    \n",
    "    fig, (axs) = plt.subplots(1,1, figsize=(5,5))\n",
    "    axs.plot(fpr,tpr,'b', label=\"ROC_AUC: {0:.02f}\".format(roc_auc))\n",
    "    axs.plot([0, 1], [0, 1], color='navy', linestyle='--')\n",
    "    axs.set_title(titles[0])\n",
    "    axs.legend()\n",
    "    plt.show()"
   ]
  },
  {
   "cell_type": "code",
   "execution_count": 119,
   "metadata": {},
   "outputs": [],
   "source": [
    "\n",
    "def model_kfold_predict (mm, folds_num = 4, titles = [\"\",\"\"]):\n",
    "    acc_list = []\n",
    "    acc_names = []\n",
    "    \n",
    "    ## fig, (axs1, axs2) = plt.subplots(1,2, figsize=(15,7))\n",
    "    ## axs1.plot([0, 1], [0, 1], color='navy', linestyle='--')\n",
    "    ## axs2.plot([0, 1], [0, 1], color='navy', linestyle='--')\n",
    "\n",
    "    kf = KFold (n_splits=folds_num,shuffle=False)\n",
    "    ## tscv = TimeSeriesSplit(n_splits=folds_num)\n",
    "    print (\"Doing TimeSeries validation\")    \n",
    "        \n",
    "    i = 0 \n",
    "    for train_index, test_index in kf.split(X_train):\n",
    "        i=i+1\n",
    "        print (\"Doing fold \" + str(i))\n",
    "        \n",
    "        X_fold_train, X__fold_test = X_train[train_index], X_train[test_index]\n",
    "        y_fold_train, y__fold_test = y_train[train_index], y_train[test_index]\n",
    "\n",
    "        mm.fit(X_fold_train, y_fold_train)\n",
    "        \n",
    "        y_pred = mm.predict(X__fold_test)\n",
    "        acc = accuracy_score(y_pred,y__fold_test)\n",
    "        acc_list.append(acc)\n",
    "        acc_names.append(\"fold \" + str(i))\n",
    "        \n",
    "        ## print (acc)\n",
    "    print (\"KFold Accuracy: \",[\"{0:.4f}\".format(x) for x in acc_list], np.mean(acc_list))\n",
    "\n",
    "    \n",
    "    ## Do on test data\n",
    "    mm.fit(X_train,y_train)\n",
    "    ## Plot train data\n",
    "    y_pred = mm.predict(X_test)\n",
    "    acc = accuracy_score(y_pred,y_test)\n",
    "    print (\"valid acc: %.2f\"%acc)\n",
    "    \n",
    "    acc_list.append(acc)\n",
    "    acc_names.append(\"valid\")\n",
    "    \n",
    "    \n",
    "    ## fig, (axs1) = plt.subplots(1,1, figsize=(7,5))\n",
    "    \n",
    "    plt.bar(list(range(len(acc_list))),acc_list)\n",
    "    plt.xticks(list(range(len(acc_list))), acc_names, rotation='vertical')\n",
    "    plt.ylim([0,max(acc_list)+0.1])\n",
    "    plt.title(titles[0])\n",
    "    \n",
    "    print (acc_list)\n",
    "    for i, v in enumerate(acc_list):\n",
    "        \n",
    "        plt.text(i -0.4, v + 0.01, \"{0:.2f}\".format(v))\n",
    "    plt.show()\n",
    "    print (\"av hit rate %.3f\" % np.mean(acc_list))"
   ]
  },
  {
   "cell_type": "code",
   "execution_count": 120,
   "metadata": {
    "scrolled": true
   },
   "outputs": [
    {
     "name": "stdout",
     "output_type": "stream",
     "text": [
      "Doing TimeSeries validation\n",
      "Doing fold 1\n",
      "Doing fold 2\n",
      "Doing fold 3\n",
      "Doing fold 4\n",
      "Doing fold 5\n",
      "Doing fold 6\n",
      "Doing fold 7\n",
      "Doing fold 8\n",
      "Doing fold 9\n",
      "Doing fold 10\n",
      "KFold Accuracy:  ['0.3333', '0.4467', '0.3933', '0.3467', '0.3087', '0.3087', '0.2886', '0.3423', '0.3557', '0.3557'] 0.347973154362\n",
      "valid acc: 0.38\n",
      "[0.33333333333333331, 0.44666666666666666, 0.39333333333333331, 0.34666666666666668, 0.3087248322147651, 0.3087248322147651, 0.28859060402684567, 0.34228187919463088, 0.35570469798657717, 0.35570469798657717, 0.38181818181818183]\n"
     ]
    },
    {
     "data": {
      "image/png": "[encoded data removed]",
      "text/plain": [
       "<matplotlib.figure.Figure at 0x23fa8664c18>"
      ]
     },
     "metadata": {},
     "output_type": "display_data"
    },
    {
     "name": "stdout",
     "output_type": "stream",
     "text": [
      "av hit rate 0.351\n"
     ]
    }
   ],
   "source": [
    "rdg = RidgeClassifier(alpha=1, fit_intercept=True, normalize=False)\n",
    "model_kfold_predict(rdg,folds_num=10, titles=[\"Ridge prediction on cross validation\",\"Ridge prediction on Validation\"])"
   ]
  },
  {
   "cell_type": "code",
   "execution_count": 126,
   "metadata": {},
   "outputs": [
    {
     "name": "stdout",
     "output_type": "stream",
     "text": [
      "0.351818181818 0.0426013618686\n"
     ]
    }
   ],
   "source": [
    "a1 = [0.33,0.45,0.39,0.35,0.31,0.31,0.29,0.34,0.36,0.36,0.38]\n",
    "print (np.mean(a1), np.std(a1))"
   ]
  },
  {
   "cell_type": "markdown",
   "metadata": {
    "collapsed": true
   },
   "source": [
    "#### Extra Trees"
   ]
  },
  {
   "cell_type": "code",
   "execution_count": null,
   "metadata": {
    "collapsed": true
   },
   "outputs": [],
   "source": [
    "ExtraTreesClassifier??"
   ]
  },
  {
   "cell_type": "code",
   "execution_count": 127,
   "metadata": {},
   "outputs": [
    {
     "name": "stdout",
     "output_type": "stream",
     "text": [
      "10 0.366684563758 0.0567523918126 [ 0.37333333  0.45333333  0.40666667  0.40666667  0.40939597  0.34899329\n",
      "  0.23489933  0.33557047  0.33557047  0.36241611]\n",
      "20 0.368004474273 0.0605237710834 [ 0.43333333  0.45333333  0.36666667  0.42        0.42281879  0.32885906\n",
      "  0.25503356  0.30201342  0.34899329  0.34899329]\n",
      "30 0.367995525727 0.0704668386154 [ 0.42        0.46666667  0.35333333  0.44666667  0.44966443  0.33557047\n",
      "  0.24161074  0.30201342  0.32214765  0.34228188]\n",
      "40 0.369982102908 0.0728060654797 [ 0.41333333  0.48        0.4         0.43333333  0.44966443  0.34228188\n",
      "  0.24161074  0.29530201  0.30872483  0.33557047]\n",
      "50 0.377364653244 0.0640031956284 [ 0.42666667  0.46666667  0.40666667  0.42666667  0.4295302   0.3557047\n",
      "  0.24161074  0.31543624  0.33557047  0.36912752]\n",
      "60 0.376026845638 0.0610352126138 [ 0.42666667  0.46        0.40666667  0.42666667  0.41610738  0.34228188\n",
      "  0.24161074  0.33557047  0.33557047  0.36912752]\n",
      "70 0.377355704698 0.0638441636625 [ 0.42666667  0.48666667  0.40666667  0.42        0.40939597  0.33557047\n",
      "  0.24161074  0.34228188  0.34899329  0.3557047 ]\n"
     ]
    },
    {
     "ename": "KeyboardInterrupt",
     "evalue": "",
     "output_type": "error",
     "traceback": [
      "\u001b[1;31m---------------------------------------------------------------------------\u001b[0m",
      "\u001b[1;31mKeyboardInterrupt\u001b[0m                         Traceback (most recent call last)",
      "\u001b[1;32m<timed exec>\u001b[0m in \u001b[0;36m<module>\u001b[1;34m()\u001b[0m\n",
      "\u001b[1;32mC:\\ProgramData\\Anaconda3\\lib\\site-packages\\sklearn\\model_selection\\_validation.py\u001b[0m in \u001b[0;36mcross_val_score\u001b[1;34m(estimator, X, y, groups, scoring, cv, n_jobs, verbose, fit_params, pre_dispatch)\u001b[0m\n\u001b[0;32m    340\u001b[0m                                 \u001b[0mn_jobs\u001b[0m\u001b[1;33m=\u001b[0m\u001b[0mn_jobs\u001b[0m\u001b[1;33m,\u001b[0m \u001b[0mverbose\u001b[0m\u001b[1;33m=\u001b[0m\u001b[0mverbose\u001b[0m\u001b[1;33m,\u001b[0m\u001b[1;33m\u001b[0m\u001b[0m\n\u001b[0;32m    341\u001b[0m                                 \u001b[0mfit_params\u001b[0m\u001b[1;33m=\u001b[0m\u001b[0mfit_params\u001b[0m\u001b[1;33m,\u001b[0m\u001b[1;33m\u001b[0m\u001b[0m\n\u001b[1;32m--> 342\u001b[1;33m                                 pre_dispatch=pre_dispatch)\n\u001b[0m\u001b[0;32m    343\u001b[0m     \u001b[1;32mreturn\u001b[0m \u001b[0mcv_results\u001b[0m\u001b[1;33m[\u001b[0m\u001b[1;34m'test_score'\u001b[0m\u001b[1;33m]\u001b[0m\u001b[1;33m\u001b[0m\u001b[0m\n\u001b[0;32m    344\u001b[0m \u001b[1;33m\u001b[0m\u001b[0m\n",
      "\u001b[1;32mC:\\ProgramData\\Anaconda3\\lib\\site-packages\\sklearn\\model_selection\\_validation.py\u001b[0m in \u001b[0;36mcross_validate\u001b[1;34m(estimator, X, y, groups, scoring, cv, n_jobs, verbose, fit_params, pre_dispatch, return_train_score)\u001b[0m\n\u001b[0;32m    204\u001b[0m             \u001b[0mfit_params\u001b[0m\u001b[1;33m,\u001b[0m \u001b[0mreturn_train_score\u001b[0m\u001b[1;33m=\u001b[0m\u001b[0mreturn_train_score\u001b[0m\u001b[1;33m,\u001b[0m\u001b[1;33m\u001b[0m\u001b[0m\n\u001b[0;32m    205\u001b[0m             return_times=True)\n\u001b[1;32m--> 206\u001b[1;33m         for train, test in cv.split(X, y, groups))\n\u001b[0m\u001b[0;32m    207\u001b[0m \u001b[1;33m\u001b[0m\u001b[0m\n\u001b[0;32m    208\u001b[0m     \u001b[1;32mif\u001b[0m \u001b[0mreturn_train_score\u001b[0m\u001b[1;33m:\u001b[0m\u001b[1;33m\u001b[0m\u001b[0m\n",
      "\u001b[1;32mC:\\ProgramData\\Anaconda3\\lib\\site-packages\\sklearn\\externals\\joblib\\parallel.py\u001b[0m in \u001b[0;36m__call__\u001b[1;34m(self, iterable)\u001b[0m\n\u001b[0;32m    777\u001b[0m             \u001b[1;31m# was dispatched. In particular this covers the edge\u001b[0m\u001b[1;33m\u001b[0m\u001b[1;33m\u001b[0m\u001b[0m\n\u001b[0;32m    778\u001b[0m             \u001b[1;31m# case of Parallel used with an exhausted iterator.\u001b[0m\u001b[1;33m\u001b[0m\u001b[1;33m\u001b[0m\u001b[0m\n\u001b[1;32m--> 779\u001b[1;33m             \u001b[1;32mwhile\u001b[0m \u001b[0mself\u001b[0m\u001b[1;33m.\u001b[0m\u001b[0mdispatch_one_batch\u001b[0m\u001b[1;33m(\u001b[0m\u001b[0miterator\u001b[0m\u001b[1;33m)\u001b[0m\u001b[1;33m:\u001b[0m\u001b[1;33m\u001b[0m\u001b[0m\n\u001b[0m\u001b[0;32m    780\u001b[0m                 \u001b[0mself\u001b[0m\u001b[1;33m.\u001b[0m\u001b[0m_iterating\u001b[0m \u001b[1;33m=\u001b[0m \u001b[1;32mTrue\u001b[0m\u001b[1;33m\u001b[0m\u001b[0m\n\u001b[0;32m    781\u001b[0m             \u001b[1;32melse\u001b[0m\u001b[1;33m:\u001b[0m\u001b[1;33m\u001b[0m\u001b[0m\n",
      "\u001b[1;32mC:\\ProgramData\\Anaconda3\\lib\\site-packages\\sklearn\\externals\\joblib\\parallel.py\u001b[0m in \u001b[0;36mdispatch_one_batch\u001b[1;34m(self, iterator)\u001b[0m\n\u001b[0;32m    623\u001b[0m                 \u001b[1;32mreturn\u001b[0m \u001b[1;32mFalse\u001b[0m\u001b[1;33m\u001b[0m\u001b[0m\n\u001b[0;32m    624\u001b[0m             \u001b[1;32melse\u001b[0m\u001b[1;33m:\u001b[0m\u001b[1;33m\u001b[0m\u001b[0m\n\u001b[1;32m--> 625\u001b[1;33m                 \u001b[0mself\u001b[0m\u001b[1;33m.\u001b[0m\u001b[0m_dispatch\u001b[0m\u001b[1;33m(\u001b[0m\u001b[0mtasks\u001b[0m\u001b[1;33m)\u001b[0m\u001b[1;33m\u001b[0m\u001b[0m\n\u001b[0m\u001b[0;32m    626\u001b[0m                 \u001b[1;32mreturn\u001b[0m \u001b[1;32mTrue\u001b[0m\u001b[1;33m\u001b[0m\u001b[0m\n\u001b[0;32m    627\u001b[0m \u001b[1;33m\u001b[0m\u001b[0m\n",
      "\u001b[1;32mC:\\ProgramData\\Anaconda3\\lib\\site-packages\\sklearn\\externals\\joblib\\parallel.py\u001b[0m in \u001b[0;36m_dispatch\u001b[1;34m(self, batch)\u001b[0m\n\u001b[0;32m    586\u001b[0m         \u001b[0mdispatch_timestamp\u001b[0m \u001b[1;33m=\u001b[0m \u001b[0mtime\u001b[0m\u001b[1;33m.\u001b[0m\u001b[0mtime\u001b[0m\u001b[1;33m(\u001b[0m\u001b[1;33m)\u001b[0m\u001b[1;33m\u001b[0m\u001b[0m\n\u001b[0;32m    587\u001b[0m         \u001b[0mcb\u001b[0m \u001b[1;33m=\u001b[0m \u001b[0mBatchCompletionCallBack\u001b[0m\u001b[1;33m(\u001b[0m\u001b[0mdispatch_timestamp\u001b[0m\u001b[1;33m,\u001b[0m \u001b[0mlen\u001b[0m\u001b[1;33m(\u001b[0m\u001b[0mbatch\u001b[0m\u001b[1;33m)\u001b[0m\u001b[1;33m,\u001b[0m \u001b[0mself\u001b[0m\u001b[1;33m)\u001b[0m\u001b[1;33m\u001b[0m\u001b[0m\n\u001b[1;32m--> 588\u001b[1;33m         \u001b[0mjob\u001b[0m \u001b[1;33m=\u001b[0m \u001b[0mself\u001b[0m\u001b[1;33m.\u001b[0m\u001b[0m_backend\u001b[0m\u001b[1;33m.\u001b[0m\u001b[0mapply_async\u001b[0m\u001b[1;33m(\u001b[0m\u001b[0mbatch\u001b[0m\u001b[1;33m,\u001b[0m \u001b[0mcallback\u001b[0m\u001b[1;33m=\u001b[0m\u001b[0mcb\u001b[0m\u001b[1;33m)\u001b[0m\u001b[1;33m\u001b[0m\u001b[0m\n\u001b[0m\u001b[0;32m    589\u001b[0m         \u001b[0mself\u001b[0m\u001b[1;33m.\u001b[0m\u001b[0m_jobs\u001b[0m\u001b[1;33m.\u001b[0m\u001b[0mappend\u001b[0m\u001b[1;33m(\u001b[0m\u001b[0mjob\u001b[0m\u001b[1;33m)\u001b[0m\u001b[1;33m\u001b[0m\u001b[0m\n\u001b[0;32m    590\u001b[0m \u001b[1;33m\u001b[0m\u001b[0m\n",
      "\u001b[1;32mC:\\ProgramData\\Anaconda3\\lib\\site-packages\\sklearn\\externals\\joblib\\_parallel_backends.py\u001b[0m in \u001b[0;36mapply_async\u001b[1;34m(self, func, callback)\u001b[0m\n\u001b[0;32m    109\u001b[0m     \u001b[1;32mdef\u001b[0m \u001b[0mapply_async\u001b[0m\u001b[1;33m(\u001b[0m\u001b[0mself\u001b[0m\u001b[1;33m,\u001b[0m \u001b[0mfunc\u001b[0m\u001b[1;33m,\u001b[0m \u001b[0mcallback\u001b[0m\u001b[1;33m=\u001b[0m\u001b[1;32mNone\u001b[0m\u001b[1;33m)\u001b[0m\u001b[1;33m:\u001b[0m\u001b[1;33m\u001b[0m\u001b[0m\n\u001b[0;32m    110\u001b[0m         \u001b[1;34m\"\"\"Schedule a func to be run\"\"\"\u001b[0m\u001b[1;33m\u001b[0m\u001b[0m\n\u001b[1;32m--> 111\u001b[1;33m         \u001b[0mresult\u001b[0m \u001b[1;33m=\u001b[0m \u001b[0mImmediateResult\u001b[0m\u001b[1;33m(\u001b[0m\u001b[0mfunc\u001b[0m\u001b[1;33m)\u001b[0m\u001b[1;33m\u001b[0m\u001b[0m\n\u001b[0m\u001b[0;32m    112\u001b[0m         \u001b[1;32mif\u001b[0m \u001b[0mcallback\u001b[0m\u001b[1;33m:\u001b[0m\u001b[1;33m\u001b[0m\u001b[0m\n\u001b[0;32m    113\u001b[0m             \u001b[0mcallback\u001b[0m\u001b[1;33m(\u001b[0m\u001b[0mresult\u001b[0m\u001b[1;33m)\u001b[0m\u001b[1;33m\u001b[0m\u001b[0m\n",
      "\u001b[1;32mC:\\ProgramData\\Anaconda3\\lib\\site-packages\\sklearn\\externals\\joblib\\_parallel_backends.py\u001b[0m in \u001b[0;36m__init__\u001b[1;34m(self, batch)\u001b[0m\n\u001b[0;32m    330\u001b[0m         \u001b[1;31m# Don't delay the application, to avoid keeping the input\u001b[0m\u001b[1;33m\u001b[0m\u001b[1;33m\u001b[0m\u001b[0m\n\u001b[0;32m    331\u001b[0m         \u001b[1;31m# arguments in memory\u001b[0m\u001b[1;33m\u001b[0m\u001b[1;33m\u001b[0m\u001b[0m\n\u001b[1;32m--> 332\u001b[1;33m         \u001b[0mself\u001b[0m\u001b[1;33m.\u001b[0m\u001b[0mresults\u001b[0m \u001b[1;33m=\u001b[0m \u001b[0mbatch\u001b[0m\u001b[1;33m(\u001b[0m\u001b[1;33m)\u001b[0m\u001b[1;33m\u001b[0m\u001b[0m\n\u001b[0m\u001b[0;32m    333\u001b[0m \u001b[1;33m\u001b[0m\u001b[0m\n\u001b[0;32m    334\u001b[0m     \u001b[1;32mdef\u001b[0m \u001b[0mget\u001b[0m\u001b[1;33m(\u001b[0m\u001b[0mself\u001b[0m\u001b[1;33m)\u001b[0m\u001b[1;33m:\u001b[0m\u001b[1;33m\u001b[0m\u001b[0m\n",
      "\u001b[1;32mC:\\ProgramData\\Anaconda3\\lib\\site-packages\\sklearn\\externals\\joblib\\parallel.py\u001b[0m in \u001b[0;36m__call__\u001b[1;34m(self)\u001b[0m\n\u001b[0;32m    129\u001b[0m \u001b[1;33m\u001b[0m\u001b[0m\n\u001b[0;32m    130\u001b[0m     \u001b[1;32mdef\u001b[0m \u001b[0m__call__\u001b[0m\u001b[1;33m(\u001b[0m\u001b[0mself\u001b[0m\u001b[1;33m)\u001b[0m\u001b[1;33m:\u001b[0m\u001b[1;33m\u001b[0m\u001b[0m\n\u001b[1;32m--> 131\u001b[1;33m         \u001b[1;32mreturn\u001b[0m \u001b[1;33m[\u001b[0m\u001b[0mfunc\u001b[0m\u001b[1;33m(\u001b[0m\u001b[1;33m*\u001b[0m\u001b[0margs\u001b[0m\u001b[1;33m,\u001b[0m \u001b[1;33m**\u001b[0m\u001b[0mkwargs\u001b[0m\u001b[1;33m)\u001b[0m \u001b[1;32mfor\u001b[0m \u001b[0mfunc\u001b[0m\u001b[1;33m,\u001b[0m \u001b[0margs\u001b[0m\u001b[1;33m,\u001b[0m \u001b[0mkwargs\u001b[0m \u001b[1;32min\u001b[0m \u001b[0mself\u001b[0m\u001b[1;33m.\u001b[0m\u001b[0mitems\u001b[0m\u001b[1;33m]\u001b[0m\u001b[1;33m\u001b[0m\u001b[0m\n\u001b[0m\u001b[0;32m    132\u001b[0m \u001b[1;33m\u001b[0m\u001b[0m\n\u001b[0;32m    133\u001b[0m     \u001b[1;32mdef\u001b[0m \u001b[0m__len__\u001b[0m\u001b[1;33m(\u001b[0m\u001b[0mself\u001b[0m\u001b[1;33m)\u001b[0m\u001b[1;33m:\u001b[0m\u001b[1;33m\u001b[0m\u001b[0m\n",
      "\u001b[1;32mC:\\ProgramData\\Anaconda3\\lib\\site-packages\\sklearn\\externals\\joblib\\parallel.py\u001b[0m in \u001b[0;36m<listcomp>\u001b[1;34m(.0)\u001b[0m\n\u001b[0;32m    129\u001b[0m \u001b[1;33m\u001b[0m\u001b[0m\n\u001b[0;32m    130\u001b[0m     \u001b[1;32mdef\u001b[0m \u001b[0m__call__\u001b[0m\u001b[1;33m(\u001b[0m\u001b[0mself\u001b[0m\u001b[1;33m)\u001b[0m\u001b[1;33m:\u001b[0m\u001b[1;33m\u001b[0m\u001b[0m\n\u001b[1;32m--> 131\u001b[1;33m         \u001b[1;32mreturn\u001b[0m \u001b[1;33m[\u001b[0m\u001b[0mfunc\u001b[0m\u001b[1;33m(\u001b[0m\u001b[1;33m*\u001b[0m\u001b[0margs\u001b[0m\u001b[1;33m,\u001b[0m \u001b[1;33m**\u001b[0m\u001b[0mkwargs\u001b[0m\u001b[1;33m)\u001b[0m \u001b[1;32mfor\u001b[0m \u001b[0mfunc\u001b[0m\u001b[1;33m,\u001b[0m \u001b[0margs\u001b[0m\u001b[1;33m,\u001b[0m \u001b[0mkwargs\u001b[0m \u001b[1;32min\u001b[0m \u001b[0mself\u001b[0m\u001b[1;33m.\u001b[0m\u001b[0mitems\u001b[0m\u001b[1;33m]\u001b[0m\u001b[1;33m\u001b[0m\u001b[0m\n\u001b[0m\u001b[0;32m    132\u001b[0m \u001b[1;33m\u001b[0m\u001b[0m\n\u001b[0;32m    133\u001b[0m     \u001b[1;32mdef\u001b[0m \u001b[0m__len__\u001b[0m\u001b[1;33m(\u001b[0m\u001b[0mself\u001b[0m\u001b[1;33m)\u001b[0m\u001b[1;33m:\u001b[0m\u001b[1;33m\u001b[0m\u001b[0m\n",
      "\u001b[1;32mC:\\ProgramData\\Anaconda3\\lib\\site-packages\\sklearn\\model_selection\\_validation.py\u001b[0m in \u001b[0;36m_fit_and_score\u001b[1;34m(estimator, X, y, scorer, train, test, verbose, parameters, fit_params, return_train_score, return_parameters, return_n_test_samples, return_times, error_score)\u001b[0m\n\u001b[0;32m    456\u001b[0m             \u001b[0mestimator\u001b[0m\u001b[1;33m.\u001b[0m\u001b[0mfit\u001b[0m\u001b[1;33m(\u001b[0m\u001b[0mX_train\u001b[0m\u001b[1;33m,\u001b[0m \u001b[1;33m**\u001b[0m\u001b[0mfit_params\u001b[0m\u001b[1;33m)\u001b[0m\u001b[1;33m\u001b[0m\u001b[0m\n\u001b[0;32m    457\u001b[0m         \u001b[1;32melse\u001b[0m\u001b[1;33m:\u001b[0m\u001b[1;33m\u001b[0m\u001b[0m\n\u001b[1;32m--> 458\u001b[1;33m             \u001b[0mestimator\u001b[0m\u001b[1;33m.\u001b[0m\u001b[0mfit\u001b[0m\u001b[1;33m(\u001b[0m\u001b[0mX_train\u001b[0m\u001b[1;33m,\u001b[0m \u001b[0my_train\u001b[0m\u001b[1;33m,\u001b[0m \u001b[1;33m**\u001b[0m\u001b[0mfit_params\u001b[0m\u001b[1;33m)\u001b[0m\u001b[1;33m\u001b[0m\u001b[0m\n\u001b[0m\u001b[0;32m    459\u001b[0m \u001b[1;33m\u001b[0m\u001b[0m\n\u001b[0;32m    460\u001b[0m     \u001b[1;32mexcept\u001b[0m \u001b[0mException\u001b[0m \u001b[1;32mas\u001b[0m \u001b[0me\u001b[0m\u001b[1;33m:\u001b[0m\u001b[1;33m\u001b[0m\u001b[0m\n",
      "\u001b[1;32mC:\\ProgramData\\Anaconda3\\lib\\site-packages\\sklearn\\ensemble\\forest.py\u001b[0m in \u001b[0;36mfit\u001b[1;34m(self, X, y, sample_weight)\u001b[0m\n\u001b[0;32m    314\u001b[0m             \u001b[1;32mfor\u001b[0m \u001b[0mi\u001b[0m \u001b[1;32min\u001b[0m \u001b[0mrange\u001b[0m\u001b[1;33m(\u001b[0m\u001b[0mn_more_estimators\u001b[0m\u001b[1;33m)\u001b[0m\u001b[1;33m:\u001b[0m\u001b[1;33m\u001b[0m\u001b[0m\n\u001b[0;32m    315\u001b[0m                 tree = self._make_estimator(append=False,\n\u001b[1;32m--> 316\u001b[1;33m                                             random_state=random_state)\n\u001b[0m\u001b[0;32m    317\u001b[0m                 \u001b[0mtrees\u001b[0m\u001b[1;33m.\u001b[0m\u001b[0mappend\u001b[0m\u001b[1;33m(\u001b[0m\u001b[0mtree\u001b[0m\u001b[1;33m)\u001b[0m\u001b[1;33m\u001b[0m\u001b[0m\n\u001b[0;32m    318\u001b[0m \u001b[1;33m\u001b[0m\u001b[0m\n",
      "\u001b[1;32mC:\\ProgramData\\Anaconda3\\lib\\site-packages\\sklearn\\ensemble\\base.py\u001b[0m in \u001b[0;36m_make_estimator\u001b[1;34m(self, append, random_state)\u001b[0m\n\u001b[0;32m    128\u001b[0m \u001b[1;33m\u001b[0m\u001b[0m\n\u001b[0;32m    129\u001b[0m         \u001b[1;32mif\u001b[0m \u001b[0mrandom_state\u001b[0m \u001b[1;32mis\u001b[0m \u001b[1;32mnot\u001b[0m \u001b[1;32mNone\u001b[0m\u001b[1;33m:\u001b[0m\u001b[1;33m\u001b[0m\u001b[0m\n\u001b[1;32m--> 130\u001b[1;33m             \u001b[0m_set_random_states\u001b[0m\u001b[1;33m(\u001b[0m\u001b[0mestimator\u001b[0m\u001b[1;33m,\u001b[0m \u001b[0mrandom_state\u001b[0m\u001b[1;33m)\u001b[0m\u001b[1;33m\u001b[0m\u001b[0m\n\u001b[0m\u001b[0;32m    131\u001b[0m \u001b[1;33m\u001b[0m\u001b[0m\n\u001b[0;32m    132\u001b[0m         \u001b[1;32mif\u001b[0m \u001b[0mappend\u001b[0m\u001b[1;33m:\u001b[0m\u001b[1;33m\u001b[0m\u001b[0m\n",
      "\u001b[1;32mC:\\ProgramData\\Anaconda3\\lib\\site-packages\\sklearn\\ensemble\\base.py\u001b[0m in \u001b[0;36m_set_random_states\u001b[1;34m(estimator, random_state)\u001b[0m\n\u001b[0;32m     50\u001b[0m     \u001b[0mrandom_state\u001b[0m \u001b[1;33m=\u001b[0m \u001b[0mcheck_random_state\u001b[0m\u001b[1;33m(\u001b[0m\u001b[0mrandom_state\u001b[0m\u001b[1;33m)\u001b[0m\u001b[1;33m\u001b[0m\u001b[0m\n\u001b[0;32m     51\u001b[0m     \u001b[0mto_set\u001b[0m \u001b[1;33m=\u001b[0m \u001b[1;33m{\u001b[0m\u001b[1;33m}\u001b[0m\u001b[1;33m\u001b[0m\u001b[0m\n\u001b[1;32m---> 52\u001b[1;33m     \u001b[1;32mfor\u001b[0m \u001b[0mkey\u001b[0m \u001b[1;32min\u001b[0m \u001b[0msorted\u001b[0m\u001b[1;33m(\u001b[0m\u001b[0mestimator\u001b[0m\u001b[1;33m.\u001b[0m\u001b[0mget_params\u001b[0m\u001b[1;33m(\u001b[0m\u001b[0mdeep\u001b[0m\u001b[1;33m=\u001b[0m\u001b[1;32mTrue\u001b[0m\u001b[1;33m)\u001b[0m\u001b[1;33m)\u001b[0m\u001b[1;33m:\u001b[0m\u001b[1;33m\u001b[0m\u001b[0m\n\u001b[0m\u001b[0;32m     53\u001b[0m         \u001b[1;32mif\u001b[0m \u001b[0mkey\u001b[0m \u001b[1;33m==\u001b[0m \u001b[1;34m'random_state'\u001b[0m \u001b[1;32mor\u001b[0m \u001b[0mkey\u001b[0m\u001b[1;33m.\u001b[0m\u001b[0mendswith\u001b[0m\u001b[1;33m(\u001b[0m\u001b[1;34m'__random_state'\u001b[0m\u001b[1;33m)\u001b[0m\u001b[1;33m:\u001b[0m\u001b[1;33m\u001b[0m\u001b[0m\n\u001b[0;32m     54\u001b[0m             \u001b[0mto_set\u001b[0m\u001b[1;33m[\u001b[0m\u001b[0mkey\u001b[0m\u001b[1;33m]\u001b[0m \u001b[1;33m=\u001b[0m \u001b[0mrandom_state\u001b[0m\u001b[1;33m.\u001b[0m\u001b[0mrandint\u001b[0m\u001b[1;33m(\u001b[0m\u001b[0mMAX_RAND_SEED\u001b[0m\u001b[1;33m)\u001b[0m\u001b[1;33m\u001b[0m\u001b[0m\n",
      "\u001b[1;32mC:\\ProgramData\\Anaconda3\\lib\\site-packages\\sklearn\\base.py\u001b[0m in \u001b[0;36mget_params\u001b[1;34m(self, deep)\u001b[0m\n\u001b[0;32m    226\u001b[0m         \"\"\"\n\u001b[0;32m    227\u001b[0m         \u001b[0mout\u001b[0m \u001b[1;33m=\u001b[0m \u001b[0mdict\u001b[0m\u001b[1;33m(\u001b[0m\u001b[1;33m)\u001b[0m\u001b[1;33m\u001b[0m\u001b[0m\n\u001b[1;32m--> 228\u001b[1;33m         \u001b[1;32mfor\u001b[0m \u001b[0mkey\u001b[0m \u001b[1;32min\u001b[0m \u001b[0mself\u001b[0m\u001b[1;33m.\u001b[0m\u001b[0m_get_param_names\u001b[0m\u001b[1;33m(\u001b[0m\u001b[1;33m)\u001b[0m\u001b[1;33m:\u001b[0m\u001b[1;33m\u001b[0m\u001b[0m\n\u001b[0m\u001b[0;32m    229\u001b[0m             \u001b[1;31m# We need deprecation warnings to always be on in order to\u001b[0m\u001b[1;33m\u001b[0m\u001b[1;33m\u001b[0m\u001b[0m\n\u001b[0;32m    230\u001b[0m             \u001b[1;31m# catch deprecated param values.\u001b[0m\u001b[1;33m\u001b[0m\u001b[1;33m\u001b[0m\u001b[0m\n",
      "\u001b[1;32mC:\\ProgramData\\Anaconda3\\lib\\site-packages\\sklearn\\base.py\u001b[0m in \u001b[0;36m_get_param_names\u001b[1;34m(cls)\u001b[0m\n\u001b[0;32m    196\u001b[0m         \u001b[1;31m# introspect the constructor arguments to find the model parameters\u001b[0m\u001b[1;33m\u001b[0m\u001b[1;33m\u001b[0m\u001b[0m\n\u001b[0;32m    197\u001b[0m         \u001b[1;31m# to represent\u001b[0m\u001b[1;33m\u001b[0m\u001b[1;33m\u001b[0m\u001b[0m\n\u001b[1;32m--> 198\u001b[1;33m         \u001b[0minit_signature\u001b[0m \u001b[1;33m=\u001b[0m \u001b[0msignature\u001b[0m\u001b[1;33m(\u001b[0m\u001b[0minit\u001b[0m\u001b[1;33m)\u001b[0m\u001b[1;33m\u001b[0m\u001b[0m\n\u001b[0m\u001b[0;32m    199\u001b[0m         \u001b[1;31m# Consider the constructor parameters excluding 'self'\u001b[0m\u001b[1;33m\u001b[0m\u001b[1;33m\u001b[0m\u001b[0m\n\u001b[0;32m    200\u001b[0m         parameters = [p for p in init_signature.parameters.values()\n",
      "\u001b[1;32mC:\\ProgramData\\Anaconda3\\lib\\inspect.py\u001b[0m in \u001b[0;36msignature\u001b[1;34m(obj, follow_wrapped)\u001b[0m\n\u001b[0;32m   3031\u001b[0m \u001b[1;32mdef\u001b[0m \u001b[0msignature\u001b[0m\u001b[1;33m(\u001b[0m\u001b[0mobj\u001b[0m\u001b[1;33m,\u001b[0m \u001b[1;33m*\u001b[0m\u001b[1;33m,\u001b[0m \u001b[0mfollow_wrapped\u001b[0m\u001b[1;33m=\u001b[0m\u001b[1;32mTrue\u001b[0m\u001b[1;33m)\u001b[0m\u001b[1;33m:\u001b[0m\u001b[1;33m\u001b[0m\u001b[0m\n\u001b[0;32m   3032\u001b[0m     \u001b[1;34m\"\"\"Get a signature object for the passed callable.\"\"\"\u001b[0m\u001b[1;33m\u001b[0m\u001b[0m\n\u001b[1;32m-> 3033\u001b[1;33m     \u001b[1;32mreturn\u001b[0m \u001b[0mSignature\u001b[0m\u001b[1;33m.\u001b[0m\u001b[0mfrom_callable\u001b[0m\u001b[1;33m(\u001b[0m\u001b[0mobj\u001b[0m\u001b[1;33m,\u001b[0m \u001b[0mfollow_wrapped\u001b[0m\u001b[1;33m=\u001b[0m\u001b[0mfollow_wrapped\u001b[0m\u001b[1;33m)\u001b[0m\u001b[1;33m\u001b[0m\u001b[0m\n\u001b[0m\u001b[0;32m   3034\u001b[0m \u001b[1;33m\u001b[0m\u001b[0m\n\u001b[0;32m   3035\u001b[0m \u001b[1;33m\u001b[0m\u001b[0m\n",
      "\u001b[1;32mC:\\ProgramData\\Anaconda3\\lib\\inspect.py\u001b[0m in \u001b[0;36mfrom_callable\u001b[1;34m(cls, obj, follow_wrapped)\u001b[0m\n\u001b[0;32m   2781\u001b[0m         \u001b[1;34m\"\"\"Constructs Signature for the given callable object.\"\"\"\u001b[0m\u001b[1;33m\u001b[0m\u001b[0m\n\u001b[0;32m   2782\u001b[0m         return _signature_from_callable(obj, sigcls=cls,\n\u001b[1;32m-> 2783\u001b[1;33m                                         follow_wrapper_chains=follow_wrapped)\n\u001b[0m\u001b[0;32m   2784\u001b[0m \u001b[1;33m\u001b[0m\u001b[0m\n\u001b[0;32m   2785\u001b[0m     \u001b[1;33m@\u001b[0m\u001b[0mproperty\u001b[0m\u001b[1;33m\u001b[0m\u001b[0m\n",
      "\u001b[1;32mC:\\ProgramData\\Anaconda3\\lib\\inspect.py\u001b[0m in \u001b[0;36m_signature_from_callable\u001b[1;34m(obj, follow_wrapper_chains, skip_bound_arg, sigcls)\u001b[0m\n\u001b[0;32m   2256\u001b[0m         \u001b[1;31m# If it's a pure Python function, or an object that is duck type\u001b[0m\u001b[1;33m\u001b[0m\u001b[1;33m\u001b[0m\u001b[0m\n\u001b[0;32m   2257\u001b[0m         \u001b[1;31m# of a Python function (Cython functions, for instance), then:\u001b[0m\u001b[1;33m\u001b[0m\u001b[1;33m\u001b[0m\u001b[0m\n\u001b[1;32m-> 2258\u001b[1;33m         \u001b[1;32mreturn\u001b[0m \u001b[0m_signature_from_function\u001b[0m\u001b[1;33m(\u001b[0m\u001b[0msigcls\u001b[0m\u001b[1;33m,\u001b[0m \u001b[0mobj\u001b[0m\u001b[1;33m)\u001b[0m\u001b[1;33m\u001b[0m\u001b[0m\n\u001b[0m\u001b[0;32m   2259\u001b[0m \u001b[1;33m\u001b[0m\u001b[0m\n\u001b[0;32m   2260\u001b[0m     \u001b[1;32mif\u001b[0m \u001b[0m_signature_is_builtin\u001b[0m\u001b[1;33m(\u001b[0m\u001b[0mobj\u001b[0m\u001b[1;33m)\u001b[0m\u001b[1;33m:\u001b[0m\u001b[1;33m\u001b[0m\u001b[0m\n",
      "\u001b[1;32mC:\\ProgramData\\Anaconda3\\lib\\inspect.py\u001b[0m in \u001b[0;36m_signature_from_function\u001b[1;34m(cls, func)\u001b[0m\n\u001b[0;32m   2168\u001b[0m     return cls(parameters,\n\u001b[0;32m   2169\u001b[0m                \u001b[0mreturn_annotation\u001b[0m\u001b[1;33m=\u001b[0m\u001b[0mannotations\u001b[0m\u001b[1;33m.\u001b[0m\u001b[0mget\u001b[0m\u001b[1;33m(\u001b[0m\u001b[1;34m'return'\u001b[0m\u001b[1;33m,\u001b[0m \u001b[0m_empty\u001b[0m\u001b[1;33m)\u001b[0m\u001b[1;33m,\u001b[0m\u001b[1;33m\u001b[0m\u001b[0m\n\u001b[1;32m-> 2170\u001b[1;33m                __validate_parameters__=is_duck_function)\n\u001b[0m\u001b[0;32m   2171\u001b[0m \u001b[1;33m\u001b[0m\u001b[0m\n\u001b[0;32m   2172\u001b[0m \u001b[1;33m\u001b[0m\u001b[0m\n",
      "\u001b[1;32mC:\\ProgramData\\Anaconda3\\lib\\inspect.py\u001b[0m in \u001b[0;36m__init__\u001b[1;34m(self, parameters, return_annotation, __validate_parameters__)\u001b[0m\n\u001b[0;32m   2754\u001b[0m             \u001b[1;32melse\u001b[0m\u001b[1;33m:\u001b[0m\u001b[1;33m\u001b[0m\u001b[0m\n\u001b[0;32m   2755\u001b[0m                 params = OrderedDict(((param.name, param)\n\u001b[1;32m-> 2756\u001b[1;33m                                                 for param in parameters))\n\u001b[0m\u001b[0;32m   2757\u001b[0m \u001b[1;33m\u001b[0m\u001b[0m\n\u001b[0;32m   2758\u001b[0m         \u001b[0mself\u001b[0m\u001b[1;33m.\u001b[0m\u001b[0m_parameters\u001b[0m \u001b[1;33m=\u001b[0m \u001b[0mtypes\u001b[0m\u001b[1;33m.\u001b[0m\u001b[0mMappingProxyType\u001b[0m\u001b[1;33m(\u001b[0m\u001b[0mparams\u001b[0m\u001b[1;33m)\u001b[0m\u001b[1;33m\u001b[0m\u001b[0m\n",
      "\u001b[1;32mC:\\ProgramData\\Anaconda3\\lib\\inspect.py\u001b[0m in \u001b[0;36m<genexpr>\u001b[1;34m(.0)\u001b[0m\n\u001b[0;32m   2753\u001b[0m                     \u001b[0mparams\u001b[0m\u001b[1;33m[\u001b[0m\u001b[0mname\u001b[0m\u001b[1;33m]\u001b[0m \u001b[1;33m=\u001b[0m \u001b[0mparam\u001b[0m\u001b[1;33m\u001b[0m\u001b[0m\n\u001b[0;32m   2754\u001b[0m             \u001b[1;32melse\u001b[0m\u001b[1;33m:\u001b[0m\u001b[1;33m\u001b[0m\u001b[0m\n\u001b[1;32m-> 2755\u001b[1;33m                 params = OrderedDict(((param.name, param)\n\u001b[0m\u001b[0;32m   2756\u001b[0m                                                 for param in parameters))\n\u001b[0;32m   2757\u001b[0m \u001b[1;33m\u001b[0m\u001b[0m\n",
      "\u001b[1;31mKeyboardInterrupt\u001b[0m: "
     ]
    }
   ],
   "source": [
    "%%time\n",
    "kf = KFold (n_splits=10,shuffle=False)\n",
    "tscv = TimeSeriesSplit(n_splits=10)\n",
    "\n",
    "for i_tree in np.arange(10,500,10):\n",
    "#for i_spl in np.arange(2,10,1):    \n",
    "    etr = ExtraTreesClassifier(n_estimators=i_tree, criterion='gini', \n",
    "                               max_depth=None, min_samples_split=2, \n",
    "                               min_samples_leaf=8, \n",
    "                               n_jobs = -1, random_state=14)\n",
    "\n",
    "    scores = cross_val_score(etr, X_train, y_train,cv=kf,scoring ='accuracy')\n",
    "    print (i_tree, np.mean(scores), np.std(scores), scores)"
   ]
  },
  {
   "cell_type": "code",
   "execution_count": 85,
   "metadata": {},
   "outputs": [
    {
     "name": "stdout",
     "output_type": "stream",
     "text": [
      "Wall time: 119 ms\n"
     ]
    }
   ],
   "source": [
    "%%time\n",
    "etr  = ExtraTreesClassifier(n_estimators=10, criterion='gini', \n",
    "                           max_depth=None, min_samples_split=2, \n",
    "                           min_samples_leaf=6, n_jobs = -1, \n",
    "                           random_state=14)\n",
    "etr.fit(X_train,y_train)"
   ]
  },
  {
   "cell_type": "code",
   "execution_count": 86,
   "metadata": {
    "scrolled": false
   },
   "outputs": [
    {
     "name": "stdout",
     "output_type": "stream",
     "text": [
      "Doing TimeSeries validation\n",
      "Doing fold 1\n",
      "Doing fold 2\n",
      "Doing fold 3\n",
      "Doing fold 4\n",
      "Doing fold 5\n",
      "Doing fold 6\n",
      "Doing fold 7\n",
      "Doing fold 8\n",
      "Doing fold 9\n",
      "Doing fold 10\n",
      "KFold Accuracy:  ['0.4060', '0.4060', '0.4286', '0.3106', '0.3333', '0.2803', '0.3030', '0.3864', '0.3333', '0.3788'] 0.356635907952\n",
      "valid acc: 0.38\n",
      "[0.40601503759398494, 0.40601503759398494, 0.42857142857142855, 0.31060606060606061, 0.33333333333333331, 0.28030303030303028, 0.30303030303030304, 0.38636363636363635, 0.33333333333333331, 0.37878787878787878, 0.37671232876712329]\n"
     ]
    },
    {
     "data": {
      "image/png": "[encoded data removed]",
      "text/plain": [
       "<matplotlib.figure.Figure at 0x23fa86ca7f0>"
      ]
     },
     "metadata": {},
     "output_type": "display_data"
    },
    {
     "name": "stdout",
     "output_type": "stream",
     "text": [
      "av hit rate 0.358\n"
     ]
    }
   ],
   "source": [
    "## model_kfold_predict(etr)\n",
    "model_kfold_predict(etr,folds_num=10, titles=[\"ExtraTrees hitrate\"])"
   ]
  },
  {
   "cell_type": "code",
   "execution_count": null,
   "metadata": {
    "scrolled": true
   },
   "outputs": [],
   "source": [
    "imp = etr.feature_importances_\n",
    "ind = np.argsort(imp)\n",
    "ind = ind[::-1]\n",
    "\n",
    "for i_ind in ind[0:20]:\n",
    "    feat = tfidf_col_names[i_ind]\n",
    "    print (feat, imp[i_ind])\n"
   ]
  },
  {
   "cell_type": "markdown",
   "metadata": {
    "collapsed": true
   },
   "source": [
    "### LGBM"
   ]
  },
  {
   "cell_type": "code",
   "execution_count": 88,
   "metadata": {
    "collapsed": true
   },
   "outputs": [],
   "source": [
    "import lightgbm as lgb\n"
   ]
  },
  {
   "cell_type": "code",
   "execution_count": 89,
   "metadata": {},
   "outputs": [
    {
     "name": "stdout",
     "output_type": "stream",
     "text": [
      "Start training...\n",
      "[1]\tvalid_0's auc: 0.529717\tvalid_0's multi_logloss: 1.09817\n",
      "Training until validation scores don't improve for 5 rounds.\n",
      "[2]\tvalid_0's auc: 0.545165\tvalid_0's multi_logloss: 1.0983\n",
      "[3]\tvalid_0's auc: 0.578302\tvalid_0's multi_logloss: 1.09796\n",
      "[4]\tvalid_0's auc: 0.572406\tvalid_0's multi_logloss: 1.0969\n",
      "[5]\tvalid_0's auc: 0.57842\tvalid_0's multi_logloss: 1.09559\n",
      "[6]\tvalid_0's auc: 0.566274\tvalid_0's multi_logloss: 1.09523\n",
      "[7]\tvalid_0's auc: 0.571462\tvalid_0's multi_logloss: 1.09482\n",
      "[8]\tvalid_0's auc: 0.562972\tvalid_0's multi_logloss: 1.0938\n",
      "[9]\tvalid_0's auc: 0.552241\tvalid_0's multi_logloss: 1.09182\n",
      "[10]\tvalid_0's auc: 0.559198\tvalid_0's multi_logloss: 1.0917\n",
      "Early stopping, best iteration is:\n",
      "[5]\tvalid_0's auc: 0.57842\tvalid_0's multi_logloss: 1.09559\n"
     ]
    }
   ],
   "source": [
    "lgb_train = lgb.Dataset(X_train, y_train+1)\n",
    "lgb_eval = lgb.Dataset(X_test, y_test+1, reference=lgb_train)\n",
    "\n",
    "# specify your configurations as a dict\n",
    "params = {\n",
    "    'task': 'train',\n",
    "    'boosting_type': 'gbdt',\n",
    "    'objective': 'multiclass',\n",
    "    'num_class':3,\n",
    "    'metric': {'multi_logloss','auc'},\n",
    "    'num_leaves': 5,\n",
    "    'learning_rate': 0.05,\n",
    "    'feature_fraction': 0.9,\n",
    "    'bagging_fraction': 0.8,\n",
    "    'bagging_freq': 5,\n",
    "    'verbose': 0\n",
    "}\n",
    "\n",
    "print('Start training...')\n",
    "# train\n",
    "gbm = lgb.train(params,\n",
    "                lgb_train,\n",
    "                num_boost_round=50,\n",
    "                valid_sets=lgb_eval,\n",
    "                early_stopping_rounds=5)"
   ]
  },
  {
   "cell_type": "code",
   "execution_count": 90,
   "metadata": {},
   "outputs": [
    {
     "data": {
      "text/plain": [
       "0.41095890410958902"
      ]
     },
     "execution_count": 90,
     "metadata": {},
     "output_type": "execute_result"
    }
   ],
   "source": [
    "y_pred = gbm.predict(X_test)\n",
    "y_pred = np.array([np.argmax(x) for x in y_pred]) -1\n",
    "accuracy_score(y_test, y_pred)"
   ]
  },
  {
   "cell_type": "code",
   "execution_count": null,
   "metadata": {},
   "outputs": [],
   "source": [
    "lgb.train(params,lgb_train)"
   ]
  },
  {
   "cell_type": "code",
   "execution_count": 91,
   "metadata": {},
   "outputs": [
    {
     "data": {
      "text/plain": [
       "{'multi_error-mean': [0.64090909090909087,\n",
       "  0.64772727272727271,\n",
       "  0.64015151515151525,\n",
       "  0.634848484848485,\n",
       "  0.63560606060606062,\n",
       "  0.63484848484848488,\n",
       "  0.63484848484848477],\n",
       " 'multi_error-stdv': [0.031455362866707116,\n",
       "  0.044335984510301615,\n",
       "  0.041666666666666671,\n",
       "  0.040768557718405173,\n",
       "  0.030388138060805429,\n",
       "  0.035339102393001823,\n",
       "  0.034015067152490371],\n",
       " 'multi_logloss-mean': [1.0986168447103224,\n",
       "  1.0986063554644698,\n",
       "  1.0986023473527755,\n",
       "  1.0985966630169854,\n",
       "  1.0985863196208576,\n",
       "  1.0985756260713373,\n",
       "  1.0985833805369514],\n",
       " 'multi_logloss-stdv': [1.3755509680133872e-05,\n",
       "  3.1834455402702494e-05,\n",
       "  4.5953368857961013e-05,\n",
       "  6.0228205522315346e-05,\n",
       "  7.5335767325073838e-05,\n",
       "  8.9430870734481143e-05,\n",
       "  9.1584985152385283e-05]}"
      ]
     },
     "execution_count": 91,
     "metadata": {},
     "output_type": "execute_result"
    }
   ],
   "source": [
    "params = {\n",
    "\n",
    "    'boosting_type': 'gbdt',\n",
    "    'objective': 'multiclass',\n",
    "    'num_class':3,\n",
    "    'metric': {'multi_logloss','multi_error'},\n",
    "    'num_leaves': 10,\n",
    "    'learning_rate': 0.001,\n",
    "    'feature_fraction': 0.9,\n",
    "    'bagging_fraction': 0.8,\n",
    "    'verbose': 1\n",
    "}\n",
    "\n",
    "lgb.cv(params,\n",
    "        lgb_train,\n",
    "       num_boost_round=500,\n",
    "        nfold = 10,\n",
    "        early_stopping_rounds=25,\n",
    "       shuffle= False,\n",
    "       stratified = False\n",
    "      )\n"
   ]
  },
  {
   "cell_type": "code",
   "execution_count": null,
   "metadata": {
    "collapsed": true
   },
   "outputs": [],
   "source": [
    "lgb.cv??"
   ]
  },
  {
   "cell_type": "markdown",
   "metadata": {},
   "source": [
    "### summary graph\n"
   ]
  },
  {
   "cell_type": "code",
   "execution_count": 132,
   "metadata": {},
   "outputs": [
    {
     "name": "stdout",
     "output_type": "stream",
     "text": [
      "[0.378, 0.389, 0.367, 0.353, 0.358]\n"
     ]
    },
    {
     "data": {
      "image/png": "[encoded data removed]",
      "text/plain": [
       "<matplotlib.figure.Figure at 0x23fa85d9400>"
      ]
     },
     "metadata": {},
     "output_type": "display_data"
    },
    {
     "name": "stdout",
     "output_type": "stream",
     "text": [
      "Std errors:  [0.0335, 0.07969, 0.03053, 0.04772, 0.04851]\n"
     ]
    }
   ],
   "source": [
    "acc_names = ['1 - min','5 - min','10 - min','15 - min','20 - min']\n",
    "acc_list = [0.378, 0.389, 0.367, 0.353, 0.358]\n",
    "std_list = [0.0335,0.07969,0.03053, 0.04772, 0.04851]\n",
    "\n",
    "plt.bar(list(range(len(acc_list))),acc_list,yerr=std_list,capsize=5)\n",
    "plt.xticks(list(range(len(acc_list))), acc_names, rotation='vertical')\n",
    "plt.ylim([0,max(acc_list)+0.1])\n",
    "plt.title('Hitrate by different tick data interval')\n",
    "\n",
    "print (acc_list)\n",
    "for i, v in enumerate(acc_list):\n",
    "\n",
    "    plt.text(i -0.4, v + 0.01, \"{0:.2f}\".format(v))\n",
    "plt.show()\n",
    "print (\"Std errors: \", std_list)"
   ]
  },
  {
   "cell_type": "code",
   "execution_count": 98,
   "metadata": {
    "collapsed": true
   },
   "outputs": [],
   "source": [
    "a1 = [0.33,0.38,0.37,0.40,0.36,0.31,0.41,0.37,0.42,0.42,0.38]\n",
    "a2 = [0.47,0.49,0.41,0.43,0.44,0.34,0.25,0.35,0.35,0.37,0.55]\n",
    "a3 = [0.38,0.41,0.36,0.36,0.34,0.34,0.32,0.36,0.38,0.35,0.43]\n",
    "a4 = [0.39,0.33,0.39,0.38,0.32,0.31,0.29,0.33,0.30,0.41,0.44]\n",
    "a5 = [0.41,0.41,0.43,0.31,0.33,0.28,0.30,0.39,0.33,0.38,0.38]"
   ]
  },
  {
   "cell_type": "code",
   "execution_count": 97,
   "metadata": {},
   "outputs": [
    {
     "data": {
      "text/plain": [
       "0.5"
      ]
     },
     "execution_count": 97,
     "metadata": {},
     "output_type": "execute_result"
    }
   ],
   "source": [
    "np.std([1,2])"
   ]
  },
  {
   "cell_type": "code",
   "execution_count": 103,
   "metadata": {},
   "outputs": [
    {
     "data": {
      "text/plain": [
       "0.048515142051368483"
      ]
     },
     "execution_count": 103,
     "metadata": {},
     "output_type": "execute_result"
    }
   ],
   "source": [
    "np.std(a5)"
   ]
  },
  {
   "cell_type": "code",
   "execution_count": null,
   "metadata": {
    "collapsed": true
   },
   "outputs": [],
   "source": []
  }
 ],
 "metadata": {
  "kernelspec": {
   "display_name": "Python 3",
   "language": "python",
   "name": "python3"
  },
  "language_info": {
   "codemirror_mode": {
    "name": "ipython",
    "version": 3
   },
   "file_extension": ".py",
   "mimetype": "text/x-python",
   "name": "python",
   "nbconvert_exporter": "python",
   "pygments_lexer": "ipython3",
   "version": "3.6.3"
  }
 },
 "nbformat": 4,
 "nbformat_minor": 2
}
