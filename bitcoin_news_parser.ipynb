{
 "cells": [
  {
   "cell_type": "code",
   "execution_count": 90,
   "metadata": {},
   "outputs": [],
   "source": [
    "import re\n",
    "import pandas as pd\n",
    "import numpy as np\n",
    "import requests\n",
    "from lxml import html, etree\n",
    "\n",
    "## https://news.bitcoin.com/\n"
   ]
  },
  {
   "cell_type": "code",
   "execution_count": null,
   "metadata": {
    "scrolled": true
   },
   "outputs": [],
   "source": [
    "## http://docs.python-guide.org/en/latest/scenarios/scrape/\n",
    "##\n",
    "\n",
    "class news_bitcoin_parser():\n",
    "    def __init__(self):\n",
    "        self.link = 'https://news.bitcoin.com/'\n",
    "        self.save_dir = \"news_bitcoin/\"\n",
    "    \n",
    "    def read_article_text(self,article_href):\n",
    "        article_page = requests.get(article_href)\n",
    "        article_html = html.fromstring(article_page.content)\n",
    "        article_content = article_html.xpath('//div[@class=\"td-post-content\"]')\n",
    "        text = etree.tostring(article_content[0])\n",
    "        text = text.decode(\"utf-8\")  \n",
    "        return text\n",
    "    \n",
    "    def clean_text (self,article_text):\n",
    "        article_text = re.sub(\"<.*?>\",\"\",article_text)\n",
    "        article_text = re.sub(\"&#[0-9]+;|\\n\",\" \",article_text)\n",
    "        article_text = re.sub(\" {1,}\",\" \",article_text)\n",
    "\n",
    "        return article_text\n",
    "\n",
    "    def parse_page(self,page_num, verbose = True):\n",
    "        page_link = self.link\n",
    "        if page_num>1:\n",
    "            page_link = self.link + \"/page/\" + str(page_num)\n",
    "        if page_num<=0:\n",
    "            return 0\n",
    "        page = requests.get(page_link)\n",
    "        page_html = html.fromstring(page.content)\n",
    "        \n",
    "        news = page_html.xpath('//div[@class=\"td-container td-pb-article-list\"]')\n",
    "        articles = news[0].xpath('.//div[@class=\"item-details\"]')\n",
    "\n",
    "        ## for debugging\n",
    "        self.page = page\n",
    "        self.page_html = page_html\n",
    "        self.articles = articles \n",
    "        if verbose: print ('read page ' + str(page_num))\n",
    "        \n",
    "        for i_article in articles:\n",
    "            article_name = i_article.xpath(\".//a/@title\")[0]\n",
    "            article_time = i_article.xpath(\".//time/@datetime\")[0]\n",
    "            article_date = article_time[0:10]\n",
    "            article_href = i_article.xpath(\".//a/@href\")[0]\n",
    "            article_text = self.read_article_text(article_href)\n",
    "            \n",
    "            ## cleaning article from special symbols\n",
    "            article_text = self.clean_text(article_text)\n",
    "                        \n",
    "            ## saving article\n",
    "            fn = re.sub(\"[^a-zA-Z0-9 ]\",\"\",article_name[0:20])\n",
    "            file_name = self.save_dir + article_date + \"_\" + 'p_' + '{num:03d}'.format(num=page_num) + \"_\" + fn + \".txt\"\n",
    "            if verbose: print (file_name)\n",
    "            f = open(file_name,'w')\n",
    "            f.write(article_name + \"\\n\")\n",
    "            f.write(article_time+ \"\\n\")\n",
    "            f.write(article_text)\n",
    "            f.close()\n",
    "        print (\"page \" + str(page_num) + \" parsed\")\n",
    "\n",
    "            \n",
    "bc_parser = news_bitcoin_parser()\n",
    "\n",
    "for i in range(1,619):\n",
    "    bc_parser.parse_page(i,verbose=False)"
   ]
  },
  {
   "cell_type": "code",
   "execution_count": 280,
   "metadata": {},
   "outputs": [
    {
     "data": {
      "text/plain": [
       "<Response [200]>"
      ]
     },
     "execution_count": 280,
     "metadata": {},
     "output_type": "execute_result"
    }
   ],
   "source": [
    " requests.get(bc_parser.link)"
   ]
  },
  {
   "cell_type": "code",
   "execution_count": 288,
   "metadata": {
    "scrolled": true
   },
   "outputs": [
    {
     "name": "stdout",
     "output_type": "stream",
     "text": [
      "read page 3\n",
      "news_bitcoin/2018-03-25_p_3_This Week in Bitcoin.txt\n",
      "news_bitcoin/2018-03-25_p_3_Crypto Mania Peaked .txt\n",
      "news_bitcoin/2018-03-25_p_3_Venezuelans to Buy H.txt\n",
      "news_bitcoin/2018-03-25_p_3_Tennessee Passes Bil.txt\n",
      "news_bitcoin/2018-03-25_p_3_Reddit Removes Bitco.txt\n",
      "news_bitcoin/2018-03-25_p_3_Cryptocurrency Has A.txt\n",
      "news_bitcoin/2018-03-25_p_3_Markets Update: Trad.txt\n",
      "news_bitcoin/2018-03-25_p_3_Hydro-Quebec Turns D.txt\n",
      "news_bitcoin/2018-03-25_p_3_Bitcoin Ransomware A.txt\n",
      "page 3 parsed\n"
     ]
    }
   ],
   "source": [
    "bc_parser.parse_page(3,verbose=True)"
   ]
  },
  {
   "cell_type": "code",
   "execution_count": 297,
   "metadata": {},
   "outputs": [
    {
     "data": {
      "text/plain": [
       "' Market Updates 4 days ago | By Jamie Redman - | 6111 Markets Update: Trader Sentiment Optimistic But Signals Still Unclear Cryptocurrency markets are bouncing around in value over the course of the weekend as the entire crypto-market capitalization currently rests at $329 billion USD. BTC/USD markets briefly jumped above the $9K region on Sunday, March 25 but dropped an hour later to a low of $8,398. Most of the digital currencies within the crypto-economy have followed suit with BTC as most coins have lost 3-5 percent in value during the late night (EDT) trading sessions. Also read: Slush Pool Mines the First ASIC Boost Block Sparking More Debate Crypto Markets Hold Steady As Traders Wait for the Next Big Move The past few days most cryptocurrencies have been somewhat stable as they have been following the same triangular sideways pattern as BTC/USD markets. At the time of publication BTC s price is hovering above the $8,540 range as global markets are swapping roughly $5.4Bn worth of trades over the past 24-hours. The top five exchanges trading the most BTC includes Bitfinex, Binance, Okex, Bitflyer, and Upbit. One of the most traded cryptocurrencies traded with BTC right now is Tron on the Binance exchange. According to Shapeshift, the top trade today on the peer-to-peer platform is ETH for BTC. At the moment Japan is leading the global trades for BTC markets as the yen is capturing over 57 percent of trade volume. This is followed by the USD (20.8%), tether (USDT 13.6%), the South Korean won (3%), and the euro (2.4%). Technical Indicators Looking at the 4-hour, daily, and weekly BTC/USD charts show some bearish divergence taking place during the Saturday evening trading sessions. The two Simple Moving Averages (100-200 SMA) have crossed hairs just a few hours ago as the long-term 200 SMA is now above the short term 100 SMA. This indicates bears have taken control for now as BTC/USD markets lost $500 in value today. However, a reversal pattern took place during yesterday s trading sessions showing a long bullish engulfing candle. This indicates the current bearish divergence may not last long. MACd is currently heading southbound following suit with both RSI and Stochastic oscillators. Another indication that bears have taken control for the moment after resistance above $9K could not be broken. Order books show that there s some solid resistance around the $9K territory but even more so around $9,250. From there if bulls manage to muster up some strength after the last dip resistance is less after the $9,550 area. On the back side, if bears manage to keep dragging the price down with shorts then there are some solid foundations between the current price to $7,900. If the Displaced Moving Average ($7,245) breaks then BTC/USD prices could sink back to much lower levels. However, it doesn t look like bears can bring the price down that low from the current vantage point. Digital Asset Markets in General Cryptocurrency markets, in general, are seeing losses over the past 24-hours. Although over the last hour there have been improvements across the board. The weekly charts show the top ten digital assets are all still up between 5-51 percent, except ethereum markets which are down 0.69 percent. Ethereum (ETH) prices are hovering around $521 per token and over the past 24-hours, ETH is down 3.7 percent. Ripple (XRP) markets are down today 3.5 percent as one XRP $0.63 cents per coin. The fourth highest market capitalization bitcoin cash (BCH) is down 3.7 percent and one BCH today is coasting along around $982. Lastly, litecoin (LTC) markets are also down 4.1 percent and each LTC is roughly $159 per token. Overall cryptocurrency volume across all 1583 digital assets is around $14.1Bn over the past 24-hours. The Verdict: Short-Term Bearish Sentiment Long-Term Bullish Optimism Digital asset proponents seem very optimistic that markets will recover in the short term. The reversal has added some positivity among a lot of traders as there are far more long bets than shorts this week as opposed to two weeks ago. There is far less regulatory FUD swarming through the community and there s been a lot more positivity lately. However, trade volumes are still fairly flat and its nowhere near what it was during the all-time highs. Even though there have been some bullish signals, hardcore traders are still skeptical that we are out of the woods and safe from bear attacks. Where do you see the price of BTC and other digital assets heading from here? Do you think cryptocurrencies will see more gains? Let us know in the comments below. Disclaimer: Price articles and markets updates are intended for informational purposes only and should not to be considered as trading advice. Neither Bitcoin.com nor the author is responsible for any losses or gains, as the ultimate decision to conduct a trade is made by the reader. Always remember that only those in possession of the private keys are in control of the money. Images via Shutterstock, Bitstamp, Trading View, and Coinmarketcap. Want to create your own secure cold storage paper wallet? Check our tools section. '"
      ]
     },
     "execution_count": 297,
     "metadata": {},
     "output_type": "execute_result"
    }
   ],
   "source": [
    "etree.tostring(bc_parser.articles[6])\n",
    "\n",
    "i_article = bc_parser.articles[6]\n",
    "article_href = i_article.xpath(\".//a/@href\")[0]\n",
    "\n",
    "aa = read_article_text(article_href)\n",
    "aa = bc_parser.clean_text(aa)\n",
    "aa\n",
    "    "
   ]
  },
  {
   "cell_type": "code",
   "execution_count": 294,
   "metadata": {},
   "outputs": [
    {
     "data": {
      "text/plain": [
       "'https://news.bitcoin.com/markets-update-trader-sentiment-optimistic-but-signals-still-unclear/'"
      ]
     },
     "execution_count": 294,
     "metadata": {},
     "output_type": "execute_result"
    }
   ],
   "source": [
    "article_href"
   ]
  },
  {
   "cell_type": "code",
   "execution_count": 312,
   "metadata": {},
   "outputs": [
    {
     "ename": "KeyError",
     "evalue": "'03d'",
     "output_type": "error",
     "traceback": [
      "\u001b[1;31m---------------------------------------------------------------------------\u001b[0m",
      "\u001b[1;31mKeyError\u001b[0m                                  Traceback (most recent call last)",
      "\u001b[1;32m<ipython-input-312-c876cd74d1f5>\u001b[0m in \u001b[0;36m<module>\u001b[1;34m()\u001b[0m\n\u001b[1;32m----> 1\u001b[1;33m \u001b[1;34m'{03d}'\u001b[0m\u001b[1;33m.\u001b[0m\u001b[0mformat\u001b[0m\u001b[1;33m(\u001b[0m\u001b[1;36m3\u001b[0m\u001b[1;33m)\u001b[0m\u001b[1;33m\u001b[0m\u001b[0m\n\u001b[0m",
      "\u001b[1;31mKeyError\u001b[0m: '03d'"
     ]
    }
   ],
   "source": []
  },
  {
   "cell_type": "code",
   "execution_count": null,
   "metadata": {
    "collapsed": true
   },
   "outputs": [],
   "source": []
  }
 ],
 "metadata": {
  "kernelspec": {
   "display_name": "Python 3",
   "language": "python",
   "name": "python3"
  },
  "language_info": {
   "codemirror_mode": {
    "name": "ipython",
    "version": 3
   },
   "file_extension": ".py",
   "mimetype": "text/x-python",
   "name": "python",
   "nbconvert_exporter": "python",
   "pygments_lexer": "ipython3",
   "version": "3.6.1"
  }
 },
 "nbformat": 4,
 "nbformat_minor": 2
}
