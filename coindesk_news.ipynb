{
 "cells": [
  {
   "cell_type": "code",
   "execution_count": 2,
   "metadata": {
    "collapsed": true
   },
   "outputs": [],
   "source": [
    "import re\n",
    "import pandas as pd\n",
    "import numpy as np\n",
    "import requests\n",
    "from lxml import html, etree\n",
    "import time\n",
    "import json\n",
    "import datetime\n",
    "\n",
    "PROXIES = {\n",
    " ## 'http': 'http://VPN4726:@ar.finevpn.org',\n",
    " ## 'https': 'https://VPN4726:@ar.finevpn.org',\n",
    "}\n"
   ]
  },
  {
   "cell_type": "code",
   "execution_count": 5,
   "metadata": {
    "scrolled": true
   },
   "outputs": [
    {
     "name": "stdout",
     "output_type": "stream",
     "text": [
      "error reading text from page:  https://www.coindesk.com/video-game-giant-unity-work-mobile-app-kiks-ico-token/\n",
      "page 25 parsed\n"
     ]
    }
   ],
   "source": [
    "## http://docs.python-guide.org/en/latest/scenarios/scrape/\n",
    "##\n",
    "\n",
    "class news_coindesk_parser():\n",
    "    def __init__(self):\n",
    "        ## self.link = 'https://www.coindesk.com/page/'\n",
    "        self.save_dir = \"news_coindesk/\"\n",
    "    \n",
    "    def read_article_text(self,article_href, verbose=False):\n",
    "        article_page = requests.get(article_href, proxies=PROXIES)\n",
    "        article_html = html.fromstring(article_page.content)\n",
    "        \n",
    "        try:\n",
    "            article_text = article_html.xpath('//div[@class=\"single-content\"]')[0]\n",
    "            text = etree.tostring(article_text).decode(\"utf-8\") \n",
    "        except:\n",
    "            print (\"error reading text from page: \",article_href)\n",
    "            text = \"\"\n",
    "\n",
    "        text = re.sub(\"<em>The leader in blockchain news.*?</em>\",\"\",text)\n",
    "        if verbose: print (text)\n",
    "        return text\n",
    "    \n",
    "    def clean_text (self,article_text):\n",
    "        article_text = re.sub(\"<script>.*?</script>\",\"\",article_text)\n",
    "        article_text = re.sub(\"<.*?>\",\"\",article_text)\n",
    "        article_text = re.sub(\"&#8217;\",\"'\",article_text)\n",
    "        article_text = re.sub(\"&#[0-9]+;|\\n\",\" \",article_text)\n",
    "        article_text = re.sub(\" {1,}\",\" \",article_text)\n",
    "\n",
    "        return article_text\n",
    "\n",
    "    def parse_page(self,page_num, verbose = True):\n",
    "\n",
    "        page_link = \"https://www.coindesk.com/page/\" + str(page_num) + \"/\"\n",
    "        r = requests.get(page_link, proxies = PROXIES)\n",
    "        \n",
    "        articles_html = html.fromstring(r.content)\n",
    "        articles_html = articles_html.xpath('//div[@id=\"content\"]')[0]\n",
    "        articles_html = articles_html.xpath('.//div[@class=\"article medium bordered\"]')\n",
    "\n",
    "        if len(articles_html) == 0:\n",
    "            print (\"error reading page \",page_link)\n",
    "\n",
    "        for i_article in articles_html:\n",
    "\n",
    "            ## parsing date\n",
    "            ##\n",
    "            art_time = i_article.xpath('.//time/@datetime')[0]\n",
    "            art_date = art_time[0:10]    \n",
    "\n",
    "            art_title = i_article.xpath('.//div[@class=\"post-info\"]/h3')[0]\n",
    "            art_title = etree.tostring(art_title).decode('utf-8')\n",
    "            art_title = self.clean_text(art_title)\n",
    "            \n",
    "            try:\n",
    "                art_cont = i_article.xpath('.//div[@class=\"post-info\"]/p')[1]\n",
    "                art_cont = etree.tostring(art_cont).decode('utf-8')\n",
    "                art_cont = self.clean_text(art_cont)\n",
    "            except:\n",
    "                art_cont = \"\"\n",
    "                \n",
    "            art_href =  i_article.xpath('.//div[@class=\"post-info\"]/h3/a/@href')[0]\n",
    "\n",
    "            if verbose: print (art_date,art_time, art_title, art_cont, art_href)\n",
    "\n",
    "            ## read article text\n",
    "            article_text = self.read_article_text(art_href,verbose=False)\n",
    "            article_text = self.clean_text(article_text)\n",
    "\n",
    "            \n",
    "            ## saving article\n",
    "            fn = re.sub(\"[^a-zA-Z0-9 ]\",\"\",art_title[0:20])\n",
    "            file_name = self.save_dir + art_date + \"_\" + 'p_' + '{num:03d}'.format(num=page_num) + \"_\" + fn + \".txt\"\n",
    "            if verbose: print ('FILE NAME: ',file_name)\n",
    "            f = open(file_name,'w', encoding = 'utf-8')\n",
    "            f.write(art_title + \"\\n\")\n",
    "            f.write(art_time + \"\\n\")\n",
    "            f.write(\"<brief>\" + art_cont + \"</brief>\\n\")\n",
    "            f.write(article_text)\n",
    "            f.close()\n",
    "        print (\"page \" + str(page_num) + \" parsed\")\n",
    "\n",
    "\n",
    "\n",
    "            \n",
    "bc_parser = news_coindesk_parser()\n",
    "\n",
    "for i in range(25,26):\n",
    "    bc_parser.parse_page(i,verbose=False)"
   ]
  },
  {
   "cell_type": "code",
   "execution_count": null,
   "metadata": {
    "collapsed": true
   },
   "outputs": [],
   "source": []
  }
 ],
 "metadata": {
  "kernelspec": {
   "display_name": "Python 3",
   "language": "python",
   "name": "python3"
  },
  "language_info": {
   "codemirror_mode": {
    "name": "ipython",
    "version": 3
   },
   "file_extension": ".py",
   "mimetype": "text/x-python",
   "name": "python",
   "nbconvert_exporter": "python",
   "pygments_lexer": "ipython3",
   "version": "3.6.3"
  }
 },
 "nbformat": 4,
 "nbformat_minor": 2
}
